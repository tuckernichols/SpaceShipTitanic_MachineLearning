{
 "cells": [
  {
   "cell_type": "code",
   "execution_count": 2,
   "id": "a81bcb1a",
   "metadata": {},
   "outputs": [],
   "source": [
    "import numpy \n",
    "import sklearn\n",
    "import pandas as pd\n"
   ]
  },
  {
   "cell_type": "code",
   "execution_count": null,
   "id": "c2043056",
   "metadata": {},
   "outputs": [
    {
     "name": "stdout",
     "output_type": "stream",
     "text": [
      "              Age CryoSleep    VIP  RoomService  FoodCourt  ShoppingMall  \\\n",
      "PassengerId                                                                \n",
      "7069_01      22.0     False  False          0.0      125.0           0.0   \n",
      "2298_01      33.0     False  False        270.0      412.0           1.0   \n",
      "4615_01      42.0     False  False         36.0        0.0        2554.0   \n",
      "1451_02      39.0      True  False          0.0        0.0           0.0   \n",
      "0030_01      32.0     False  False          0.0      850.0          81.0   \n",
      "...           ...       ...    ...          ...        ...           ...   \n",
      "8728_05      18.0      True  False          0.0        0.0           0.0   \n",
      "0680_03       5.0      True    NaN          0.0        0.0           0.0   \n",
      "3732_02      29.0     False  False          0.0     8444.0           0.0   \n",
      "5205_01      22.0     False  False        261.0        0.0           0.0   \n",
      "5040_01      26.0     False  False          0.0       21.0       10424.0   \n",
      "\n",
      "                Spa  VRDeck  \n",
      "PassengerId                  \n",
      "7069_01       663.0     0.0  \n",
      "2298_01         NaN     5.0  \n",
      "4615_01         0.0     9.0  \n",
      "1451_02         0.0     0.0  \n",
      "0030_01       437.0   453.0  \n",
      "...             ...     ...  \n",
      "8728_05         0.0     0.0  \n",
      "0680_03         0.0     0.0  \n",
      "3732_02      2989.0  8735.0  \n",
      "5205_01       107.0  1132.0  \n",
      "5040_01      1373.0  7218.0  \n",
      "\n",
      "[6519 rows x 8 columns]\n"
     ]
    }
   ],
   "source": [
    "Data_full = pd.read_csv(\"train.csv\", index_col = \"PassengerId\")\n",
    "features = [\"Age\", \"CryoSleep\", \"VIP\", 'RoomService', 'FoodCourt', 'ShoppingMall', 'Spa', 'VRDeck']\n",
    "\n",
    "y = Data_full.Transported\n",
    "X = Data_full.drop(\"Transported\", axis=1)[features]\n",
    "\n",
    "\n",
    "X_train, X_valid, y_train, y_valid = sklearn.model_selection.train_test_split(X, y)\n",
    "\n"
   ]
  },
  {
   "cell_type": "markdown",
   "id": "142521bf",
   "metadata": {},
   "source": [
    "Data cleaning (minimal in this version)"
   ]
  },
  {
   "cell_type": "code",
   "execution_count": 7,
   "id": "1ee22269",
   "metadata": {},
   "outputs": [
    {
     "name": "stdout",
     "output_type": "stream",
     "text": [
      "Age 133\n",
      "CryoSleep 163\n",
      "VIP 151\n",
      "RoomService 141\n",
      "FoodCourt 135\n",
      "ShoppingMall 153\n",
      "Spa 140\n",
      "VRDeck 143\n"
     ]
    }
   ],
   "source": [
    "# clean NA\n",
    "\n",
    "for col in X_train.columns:\n",
    "    print(col, X_train[col].isna().sum())"
   ]
  }
 ],
 "metadata": {
  "kernelspec": {
   "display_name": ".venv",
   "language": "python",
   "name": "python3"
  },
  "language_info": {
   "codemirror_mode": {
    "name": "ipython",
    "version": 3
   },
   "file_extension": ".py",
   "mimetype": "text/x-python",
   "name": "python",
   "nbconvert_exporter": "python",
   "pygments_lexer": "ipython3",
   "version": "3.11.1"
  }
 },
 "nbformat": 4,
 "nbformat_minor": 5
}
