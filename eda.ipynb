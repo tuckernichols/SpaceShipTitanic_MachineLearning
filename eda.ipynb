{
 "cells": [
  {
   "cell_type": "code",
   "execution_count": 6,
   "id": "6371989e",
   "metadata": {},
   "outputs": [],
   "source": [
    "import numpy \n",
    "import sklearn\n",
    "import pandas as pd\n"
   ]
  },
  {
   "cell_type": "code",
   "execution_count": null,
   "id": "035f92a8",
   "metadata": {},
   "outputs": [
    {
     "name": "stdout",
     "output_type": "stream",
     "text": [
      "Index(['HomePlanet', 'CryoSleep', 'Cabin', 'Destination', 'Age', 'VIP',\n",
      "       'RoomService', 'FoodCourt', 'ShoppingMall', 'Spa', 'VRDeck', 'Name',\n",
      "       'Transported'],\n",
      "      dtype='object')\n",
      "HomePlanet\n",
      "Earth     4602\n",
      "Europa    2131\n",
      "Mars      1759\n",
      "Name: count, dtype: int64\n",
      "\n",
      "CryoSleep\n",
      "False    5439\n",
      "True     3037\n",
      "Name: count, dtype: int64\n",
      "\n",
      "Cabin\n",
      "G/734/S     8\n",
      "G/109/P     7\n",
      "B/201/P     7\n",
      "G/1368/P    7\n",
      "G/981/S     7\n",
      "           ..\n",
      "G/556/P     1\n",
      "E/231/S     1\n",
      "G/545/S     1\n",
      "G/543/S     1\n",
      "F/947/P     1\n",
      "Name: count, Length: 6560, dtype: int64\n",
      "\n",
      "Destination\n",
      "TRAPPIST-1e      5915\n",
      "55 Cancri e      1800\n",
      "PSO J318.5-22     796\n",
      "Name: count, dtype: int64\n",
      "\n",
      "VIP\n",
      "False    8291\n",
      "True      199\n",
      "Name: count, dtype: int64\n",
      "\n",
      "NA counts\n",
      "HomePlanet 201\n",
      "CryoSleep 217\n",
      "Cabin 199\n",
      "Destination 182\n",
      "Age 179\n",
      "VIP 203\n",
      "RoomService 181\n",
      "FoodCourt 183\n",
      "ShoppingMall 208\n",
      "Spa 183\n",
      "VRDeck 188\n",
      "Name 200\n",
      "Transported 0\n"
     ]
    }
   ],
   "source": [
    "data = pd.read_csv(\"train.csv\", index_col = \"PassengerId\")\n",
    "print(data.columns)\n",
    "for col in data.select_dtypes(include=[\"object\"]).columns:\n",
    "    if col != \"Name\":\n",
    "        print(data[col].value_counts())\n",
    "        print()\n",
    "\n",
    "\n"
   ]
  },
  {
   "cell_type": "markdown",
   "id": "73ce2555",
   "metadata": {},
   "source": [
    "Data change notes \n",
    "Cabin is in form deck/num/side, each value in that data should be created into a new numerical column, room number might be dropable \n",
    "\n",
    "RoomService, FoodCourt, ShoppingMall, Spa, VRDeck - Amount the passenger has billed at each of the Spaceship Titanic's many luxury amenities.\n",
    "\n",
    "beacuse of low cardinality desitnation and home planet should be one hot encoded\n",
    "maybe even a going home = true column \n",
    "\n"
   ]
  },
  {
   "cell_type": "code",
   "execution_count": 23,
   "id": "f4ed8680",
   "metadata": {},
   "outputs": [
    {
     "name": "stdout",
     "output_type": "stream",
     "text": [
      "NA counts\n",
      "HomePlanet 201\n",
      "CryoSleep 217\n",
      "Cabin 199\n",
      "Destination 182\n",
      "Age 179\n",
      "VIP 203\n",
      "RoomService 181\n",
      "FoodCourt 183\n",
      "ShoppingMall 208\n",
      "Spa 183\n",
      "VRDeck 188\n",
      "Name 200\n",
      "Transported 0\n"
     ]
    }
   ],
   "source": [
    "# NA counts \n",
    "print(\"NA counts\")\n",
    "for col in data.columns:\n",
    "    print(col, data[col].isna().sum())"
   ]
  }
 ],
 "metadata": {
  "kernelspec": {
   "display_name": ".venv",
   "language": "python",
   "name": "python3"
  },
  "language_info": {
   "codemirror_mode": {
    "name": "ipython",
    "version": 3
   },
   "file_extension": ".py",
   "mimetype": "text/x-python",
   "name": "python",
   "nbconvert_exporter": "python",
   "pygments_lexer": "ipython3",
   "version": "3.11.1"
  }
 },
 "nbformat": 4,
 "nbformat_minor": 5
}
